{
 "cells": [
  {
   "cell_type": "markdown",
   "id": "4065817b",
   "metadata": {},
   "source": [
    "## Bitwise Operators\n",
    "Bitwise Operators in Python are as follows:\n",
    "\n",
    "Bitwise NOT -- ~x\n",
    "\n",
    "Bitwise Shift -- (for right shift--x>>),(or left shift--x<<)\n",
    "\n",
    "Bitwise AND -- x&y\n",
    "\n",
    "Bitwise XOR --x^y\n",
    "\n",
    "Bitwise OR --x|y"
   ]
  },
  {
   "cell_type": "markdown",
   "id": "bffd75fc",
   "metadata": {},
   "source": [
    "## 136. Single Number\n",
    "Easy\n",
    "Topics\n",
    "premium lock icon\n",
    "Companies\n",
    "Hint\n",
    "Given a non-empty array of integers nums, every element appears twice except for one. Find that single one.\n",
    "\n",
    "You must implement a solution with a linear runtime complexity and use only constant extra space.\n",
    "\n",
    " \n",
    "\n",
    "Example 1:\n",
    "\n",
    "Input: nums = [2,2,1]\n",
    "\n",
    "Output: 1\n",
    "\n",
    "Example 2:\n",
    "\n",
    "Input: nums = [4,1,2,1,2]\n",
    "\n",
    "Output: 4\n",
    "\n",
    "Example 3:\n",
    "\n",
    "Input: nums = [1]\n",
    "\n",
    "Output: 1\n",
    "\n",
    " \n",
    "\n",
    "Constraints:\n",
    "\n",
    "1 <= nums.length <= 3 * 104\n",
    "-3 * 104 <= nums[i] <= 3 * 104\n",
    "Each element in the array appears twice except for one element which appears only once."
   ]
  },
  {
   "cell_type": "code",
   "execution_count": 60,
   "id": "64ac698f",
   "metadata": {},
   "outputs": [],
   "source": [
    "def singleNumber(nums: List[int]) -> int:\n",
    "    a=0\n",
    "    for n in nums:\n",
    "        a=a^n\n",
    "    return a\n",
    "        "
   ]
  },
  {
   "cell_type": "code",
   "execution_count": 61,
   "id": "07fca554",
   "metadata": {},
   "outputs": [
    {
     "data": {
      "text/plain": [
       "4"
      ]
     },
     "execution_count": 61,
     "metadata": {},
     "output_type": "execute_result"
    }
   ],
   "source": [
    "singleNumber([4,1,2,1,2])"
   ]
  },
  {
   "cell_type": "markdown",
   "id": "8a0f209b",
   "metadata": {},
   "source": [
    "## 191. Number of 1 Bits\n",
    "Solved\n",
    "Easy\n",
    "Topics\n",
    "premium lock icon\n",
    "Companies\n",
    "Given a positive integer n, write a function that returns the number of set bits in its binary representation (also known as the Hamming weight).\n",
    "\n",
    " \n",
    "\n",
    "Example 1:\n",
    "\n",
    "Input: n = 11\n",
    "\n",
    "Output: 3\n",
    "\n",
    "Explanation:\n",
    "\n",
    "The input binary string 1011 has a total of three set bits.\n",
    "\n",
    "Example 2:\n",
    "\n",
    "Input: n = 128\n",
    "\n",
    "Output: 1\n",
    "\n",
    "Explanation:\n",
    "\n",
    "The input binary string 10000000 has a total of one set bit.\n",
    "\n",
    "Example 3:\n",
    "\n",
    "Input: n = 2147483645\n",
    "\n",
    "Output: 30\n",
    "\n",
    "Explanation:\n",
    "\n",
    "The input binary string 1111111111111111111111111111101 has a total of thirty set bits.\n",
    "\n",
    " \n",
    "\n",
    "Constraints:\n",
    "\n",
    "1 <= n <= 231 - 1"
   ]
  },
  {
   "cell_type": "code",
   "execution_count": 15,
   "id": "d4476eeb",
   "metadata": {},
   "outputs": [],
   "source": [
    "\n",
    "def hammingWeight(n: int) -> int:\n",
    "    count = 0\n",
    "    while n:\n",
    "        count += n & 1\n",
    "        n >>= 1\n",
    "    return count"
   ]
  },
  {
   "cell_type": "code",
   "execution_count": 16,
   "id": "111eff0b",
   "metadata": {},
   "outputs": [
    {
     "data": {
      "text/plain": [
       "2"
      ]
     },
     "execution_count": 16,
     "metadata": {},
     "output_type": "execute_result"
    }
   ],
   "source": [
    "hammingWeight(5)"
   ]
  },
  {
   "cell_type": "markdown",
   "id": "7f86ee27",
   "metadata": {},
   "source": [
    "## 461. Hamming Distance\n",
    "Solved\n",
    "Easy\n",
    "Topics\n",
    "premium lock icon\n",
    "Companies\n",
    "The Hamming distance between two integers is the number of positions at which the corresponding bits are different.\n",
    "\n",
    "Given two integers x and y, return the Hamming distance between them.\n",
    "\n",
    " \n",
    "\n",
    "Example 1:\n",
    "\n",
    "Input: x = 1, y = 4\n",
    "Output: 2\n",
    "Explanation:\n",
    "1   (0 0 0 1)\n",
    "4   (0 1 0 0)\n",
    "       ↑   ↑\n",
    "The above arrows point to positions where the corresponding bits are different.\n",
    "Example 2:\n",
    "\n",
    "Input: x = 3, y = 1\n",
    "Output: 1\n",
    " \n",
    "\n",
    "Constraints:\n",
    "\n",
    "0 <= x, y <= 231 - 1"
   ]
  },
  {
   "cell_type": "code",
   "execution_count": 58,
   "id": "cbbffefb",
   "metadata": {},
   "outputs": [],
   "source": [
    "\n",
    "def hammingDistance(x: int, y: int) -> int:\n",
    "    return bin(x^y).count(\"1\")"
   ]
  },
  {
   "cell_type": "code",
   "execution_count": 59,
   "id": "5cbe0cdf",
   "metadata": {},
   "outputs": [
    {
     "data": {
      "text/plain": [
       "2"
      ]
     },
     "execution_count": 59,
     "metadata": {},
     "output_type": "execute_result"
    }
   ],
   "source": [
    "hammingDistance(1,4)"
   ]
  },
  {
   "cell_type": "markdown",
   "id": "eff621fd",
   "metadata": {},
   "source": [
    "## 645. Set Mismatch\n",
    "Solved\n",
    "Easy\n",
    "Topics\n",
    "premium lock icon\n",
    "Companies\n",
    "You have a set of integers s, which originally contains all the numbers from 1 to n. Unfortunately, due to some error, one of the numbers in s got duplicated to another number in the set, which results in repetition of one number and loss of another number.\n",
    "\n",
    "You are given an integer array nums representing the data status of this set after the error.\n",
    "\n",
    "Find the number that occurs twice and the number that is missing and return them in the form of an array.\n",
    "\n",
    " \n",
    "\n",
    "Example 1:\n",
    "\n",
    "Input: nums = [1,2,2,4]\n",
    "Output: [2,3]\n",
    "Example 2:\n",
    "\n",
    "Input: nums = [1,1]\n",
    "Output: [1,2]\n",
    " \n",
    "\n",
    "Constraints:\n",
    "\n",
    "2 <= nums.length <= 104\n",
    "1 <= nums[i] <= 104"
   ]
  },
  {
   "cell_type": "code",
   "execution_count": 46,
   "id": "62c13f94",
   "metadata": {},
   "outputs": [],
   "source": [
    "\n",
    "def findErrorNums(nums: List[int]) -> List[int]:\n",
    "    n=len(nums)\n",
    "    s=set(nums)\n",
    "    duplicateNum=sum(nums)-sum(s)\n",
    "    originalnum=(n*(n+1)//2)-sum(s)\n",
    "    return[duplicateNum,originalnum]"
   ]
  },
  {
   "cell_type": "code",
   "execution_count": 50,
   "id": "384a758e",
   "metadata": {},
   "outputs": [
    {
     "data": {
      "text/plain": [
       "[2, 3]"
      ]
     },
     "execution_count": 50,
     "metadata": {},
     "output_type": "execute_result"
    }
   ],
   "source": [
    "findErrorNums([1,2,2,4,5,6])"
   ]
  }
 ],
 "metadata": {
  "kernelspec": {
   "display_name": "Python 3",
   "language": "python",
   "name": "python3"
  },
  "language_info": {
   "codemirror_mode": {
    "name": "ipython",
    "version": 3
   },
   "file_extension": ".py",
   "mimetype": "text/x-python",
   "name": "python",
   "nbconvert_exporter": "python",
   "pygments_lexer": "ipython3",
   "version": "3.13.9"
  }
 },
 "nbformat": 4,
 "nbformat_minor": 5
}
